{
 "cells": [
  {
   "cell_type": "code",
   "execution_count": null,
   "metadata": {},
   "outputs": [],
   "source": [
    "from typing_extensions import TypedDict,List\n",
    "from pydantic import BaseModel,Field\n",
    "\n",
    "\n",
    "\n",
    "class State(BaseModel):\n",
    "    sql_query : str = Field(description = \"sql queries to get the data from the database\"),\n",
    "    data : List[str] = Field(description = \"data retrieved from the database are stored in a list of rows\" )\n",
    "    \n",
    "    "
   ]
  }
 ],
 "metadata": {
  "kernelspec": {
   "display_name": "venv",
   "language": "python",
   "name": "python3"
  },
  "language_info": {
   "name": "python",
   "version": "3.11.2"
  }
 },
 "nbformat": 4,
 "nbformat_minor": 2
}
