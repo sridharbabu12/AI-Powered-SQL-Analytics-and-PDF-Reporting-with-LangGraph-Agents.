{
 "cells": [
  {
   "cell_type": "code",
   "execution_count": 20,
   "metadata": {},
   "outputs": [
    {
     "data": {
      "image/png": "[encoded data removed]",
      "text/plain": [
       "<IPython.core.display.Image object>"
      ]
     },
     "metadata": {},
     "output_type": "display_data"
    }
   ],
   "source": [
    "from langgraph.graph import StateGraph, START, END\n",
    "from IPython.display import Image, display\n",
    "from projectai.state.state import State\n",
    "from projectai.nodes.schema import get_schema_info\n",
    "from projectai.nodes.sqlquerygenerator import generate_sql_from_query\n",
    "from projectai.nodes.dataretriever import query_database\n",
    "from projectai.nodes.orchestrator import orchestrator,aggregator\n",
    "from projectai.tools.reddit import get_reddit_text\n",
    "from projectai.nodes.llm_workers import llm_workers,assign_workers\n",
    "from projectai.nodes.pdfsynthesizer import pdfsynthesizer\n",
    "from IPython.display import Markdown\n",
    "import asyncio \n",
    "\n",
    "# Initialize the parallel builder\n",
    "parallel_builder = StateGraph(State)\n",
    "\n",
    "# Add nodes with their corresponding functions\n",
    "parallel_builder.add_node(\"table_schema\", get_schema_info)\n",
    "parallel_builder.add_node(\"generate_sql_query\", generate_sql_from_query)\n",
    "parallel_builder.add_node(\"dataretriever\", query_database)\n",
    "parallel_builder.add_node(\"aggregator\", aggregator)\n",
    "parallel_builder.add_node(\"orchestrator\", orchestrator)\n",
    "# parallel_builder.add_node(\"reddit_search\", get_reddit_text)\n",
    "parallel_builder.add_node(\"llm_workers\", llm_workers)\n",
    "parallel_builder.add_node(\"pdfsynthesizer\", pdfsynthesizer)\n",
    "\n",
    "# Add edges to connect nodes\n",
    "parallel_builder.add_edge(START, \"table_schema\")\n",
    "# parallel_builder.add_edge(START, \"reddit_search\")\n",
    "parallel_builder.add_edge(\"table_schema\", \"generate_sql_query\")\n",
    "parallel_builder.add_edge(\"generate_sql_query\", \"dataretriever\")\n",
    "parallel_builder.add_edge(\"dataretriever\", \"aggregator\")\n",
    "# parallel_builder.add_edge(\"reddit_search\", \"aggregator\")\n",
    "parallel_builder.add_edge(\"aggregator\", \"orchestrator\")\n",
    "parallel_builder.add_conditional_edges(\"orchestrator\", assign_workers, [\"llm_workers\"])\n",
    "parallel_builder.add_edge(\"llm_workers\", \"pdfsynthesizer\")\n",
    "parallel_builder.add_edge(\"pdfsynthesizer\", END)\n",
    "\n",
    "# Compile the workflow\n",
    "graph_workflow = parallel_builder.compile()\n",
    "\n",
    "display(Image(graph_workflow.get_graph().draw_mermaid_png()))"
   ]
  },
  {
   "cell_type": "code",
   "execution_count": 13,
   "metadata": {},
   "outputs": [],
   "source": [
    "graph_builder = GraphBuilder()"
   ]
  },
  {
   "cell_type": "code",
   "execution_count": 18,
   "metadata": {},
   "outputs": [
    {
     "name": "stdout",
     "output_type": "stream",
     "text": [
      "<coroutine object GraphBuilder.graph at 0x7f13911f4d60>\n"
     ]
    }
   ],
   "source": [
    "parallel_workflow=graph_builder.graph()\n",
    "print(parallel_workflow)"
   ]
  },
  {
   "cell_type": "code",
   "execution_count": 11,
   "metadata": {},
   "outputs": [],
   "source": [
    "async def main():\n",
    "    await graph_builder.graph()"
   ]
  },
  {
   "cell_type": "code",
   "execution_count": null,
   "metadata": {},
   "outputs": [],
   "source": [
    "parallel_workflow"
   ]
  },
  {
   "cell_type": "code",
   "execution_count": 1,
   "metadata": {},
   "outputs": [],
   "source": [
    "import pandas as pd"
   ]
  },
  {
   "cell_type": "code",
   "execution_count": 35,
   "metadata": {},
   "outputs": [],
   "source": [
    "file_path=\"/home/sridhar/AI_Spring_2025/1. students/s.sunke/automationproject/projectai/data/BLACK ENTERTAINMENT TV_SmartGridView_2024.xlsx\""
   ]
  },
  {
   "cell_type": "code",
   "execution_count": 36,
   "metadata": {},
   "outputs": [],
   "source": [
    "df=pd.read_excel(file_path)"
   ]
  },
  {
   "cell_type": "code",
   "execution_count": null,
   "metadata": {},
   "outputs": [],
   "source": [
    "df"
   ]
  },
  {
   "cell_type": "code",
   "execution_count": 38,
   "metadata": {},
   "outputs": [],
   "source": [
    "df[\"Start Date\"] = pd.to_datetime(df[\"Start Date\"]).dt.strftime('%Y-%m-%d')\n",
    "df[\"End Date\"] = pd.to_datetime(df[\"End Date\"]).dt.strftime('%Y-%m-%d')\n",
    "\n",
    "# Convert Start Time and End Time to string (HH:MM:SS)\n",
    "df[\"Start Time\"] = pd.to_datetime(df[\"Start Time\"], format='%I:%M%p').dt.strftime('%H:%M:%S')\n",
    "df[\"End Time\"] = pd.to_datetime(df[\"End Time\"], format='%I:%M%p').dt.strftime('%H:%M:%S')\n",
    "\n",
    "\n",
    "# Convert float columns (ratings, coverage, etc.)\n",
    "float_columns = [\n",
    "    \"National Rating\", \"National Rating PW\", \"National Rating P4W\", \"National Rating P8W\", \n",
    "    \"National Rating YOY\", \"Coverage Rating\", \"Coverage Rating PW\", \"Coverage Rating P4W\", \n",
    "    \"Coverage Rating P8W\", \"Coverage Rating YOY\", \"Network Daypart Avg P52W\", \"National Share\", \n",
    "    \"National Share PW\", \"National Share P4W\", \"National Share P8W\", \"National Share YOY\", \n",
    "    \"Coverage Share\", \"Coverage Share PW\", \"Coverage Share P4W\", \"Coverage Share P8W\", \n",
    "    \"Coverage Share YOY\", \"Reach\", \"Reach P4W\", \"Reach YOY\", \"TSV\", \"TSV PW\", \"TSV P4W\", \n",
    "    \"TSV P8W\", \"TSV YOY\", \"Retention\"\n",
    "]\n",
    "df[float_columns] = df[float_columns].apply(pd.to_numeric, errors=\"coerce\")\n",
    "\n",
    "# Convert int columns (AA, Reach, etc.)\n",
    "int_columns = [\n",
    "    \"National AA (000s)\", \"National AA (000s) PW\", \"National AA (000s) P8W\", \"Coverage AA (000s)\",\n",
    "    \"Coverage AA (000s) PW\", \"Coverage AA (000s) P8W\", \"Reach PW\", \"Reach P8W\"\n",
    "]\n",
    "df[int_columns] = df[int_columns].apply(pd.to_numeric, errors=\"coerce\").astype(\"Int64\")\n",
    "\n",
    "# Convert object columns (Feed Pattern Indicator, Premiere?, Movie Indicator, Special Indicator)\n",
    "df[\"Feed Pattern Indicator\"] = df[\"Feed Pattern Indicator\"].astype(\"category\")  # If categorical\n",
    "df[\"Premiere?\"] = df[\"Premiere?\"].map({\"Yes\": True, \"No\": False})  # Convert Yes/No to boolean\n",
    "df[\"Movie Indicator\"] = df[\"Movie Indicator\"].map({\"Yes\": True, \"No\": False})  # Convert Yes/No to boolean\n",
    "df[\"Special Indicator\"] = df[\"Special Indicator\"].map({\"Yes\": True, \"No\": False})  # Convert Yes/No to boolean\n",
    "\n",
    "# Handle NaN (replace with None for Supabase compatibility)\n",
    "df = df.astype(object).where(pd.notnull(df), None)"
   ]
  },
  {
   "cell_type": "code",
   "execution_count": null,
   "metadata": {},
   "outputs": [],
   "source": [
    "data"
   ]
  },
  {
   "cell_type": "code",
   "execution_count": null,
   "metadata": {},
   "outputs": [],
   "source": [
    "df[8005:]"
   ]
  },
  {
   "cell_type": "code",
   "execution_count": null,
   "metadata": {},
   "outputs": [],
   "source": [
    "df.isnull().sum()"
   ]
  },
  {
   "cell_type": "code",
   "execution_count": 14,
   "metadata": {},
   "outputs": [],
   "source": [
    "df=df.astype(object).where(pd.notnull(df),None)"
   ]
  },
  {
   "cell_type": "code",
   "execution_count": null,
   "metadata": {},
   "outputs": [],
   "source": [
    "df.isnull().sum()"
   ]
  },
  {
   "cell_type": "code",
   "execution_count": null,
   "metadata": {},
   "outputs": [],
   "source": [
    "df"
   ]
  },
  {
   "cell_type": "code",
   "execution_count": null,
   "metadata": {},
   "outputs": [],
   "source": [
    "df.dtypes"
   ]
  },
  {
   "cell_type": "code",
   "execution_count": null,
   "metadata": {},
   "outputs": [],
   "source": []
  }
 ],
 "metadata": {
  "kernelspec": {
   "display_name": "venv",
   "language": "python",
   "name": "python3"
  },
  "language_info": {
   "codemirror_mode": {
    "name": "ipython",
    "version": 3
   },
   "file_extension": ".py",
   "mimetype": "text/x-python",
   "name": "python",
   "nbconvert_exporter": "python",
   "pygments_lexer": "ipython3",
   "version": "3.11.2"
  }
 },
 "nbformat": 4,
 "nbformat_minor": 2
}
